{
 "cells": [
  {
   "cell_type": "code",
   "execution_count": null,
   "metadata": {
    "tags": []
   },
   "outputs": [],
   "source": [
    "import numpy as np\n",
    "import matplotlib.pyplot as plt"
   ]
  },
  {
   "cell_type": "markdown",
   "metadata": {},
   "source": [
    "# Computational Exercise 2: Visualizing the Electric Field\n",
    "In this exercise, we're going to use Python to visualize the E-Field using both a vector field and the field lines. \n",
    "\n",
    "Once you've written your code, I suggest you *try plugging in different values for the locations and sizes of the charges. Can you identify any interesting behavior of the field?* For example, if both charges have the same sign, what does the field look like (qualitatively) at a distance far from the charges? What if the signs are opposite but the magnitude of charge is equal?\n",
    "\n",
    "There are a couple parts of this that take some more involved python usage, so some tips and an introduction to meshgrid are included below. \n"
   ]
  },
  {
   "cell_type": "markdown",
   "metadata": {},
   "source": [
    "## Introduction to np.meshgrid\n",
    "\n",
    "The [np.meshgrid](https://numpy.org/doc/stable/reference/generated/numpy.meshgrid.html) function (included in the NumPy library) is a powerful tool to construct a multi-dimensional space in which the elements correspond to different, evenly-distributed, coordinates. This function takes in N 1D arrays that represent the coordinates of a grid, and outputs N N-Dimensional arrays that represent coordinate grids. \n",
    "\n",
    "For example, \n",
    "<pre><code>\n",
    "x = np.array([0,1,2,3,4])\n",
    "y = np.array([0,1,2,3,4,5,6])\n",
    "X, Y = np.meshgrid(x,y)\n",
    "</code></pre>\n",
    "will produce a 5x7 cartesian grid with x-coordinates spanning (0,4) and y-coordinates spanning (0,6). \n",
    "\n",
    "Once this grid of coordinates has been created, it can easily be manipulated to calculate a value (e.g., the magnetic field, charge density, or electric potential) at each coordinate. As you can imagine, this functionality is frequently useful in Electromagnetic Theory!"
   ]
  },
  {
   "cell_type": "code",
   "execution_count": null,
   "metadata": {
    "tags": []
   },
   "outputs": [],
   "source": [
    "# Example showing the creation of a 5x7 cartesian grid using np.meshgrid()\n",
    "\n",
    "x = np.array([0,1,2,3,4])\n",
    "y = np.array([0,1,2,3,4,5,6])\n",
    "X, Y = np.meshgrid(x,y)\n",
    "print(\"X coordinates:\\n{}\\n\".format(X))\n",
    "print(\"Y coordinates:\\n{}\".format(Y))"
   ]
  },
  {
   "cell_type": "markdown",
   "metadata": {},
   "source": [
    "After creating the grid, one can use nested loops to iterate through it to caluclate values at each location. For example, $z = 4 x^2 + y^2$ is calculated for each point in the grid below. Pay careful attention, though, as you'll notice something a little odd about the output."
   ]
  },
  {
   "cell_type": "code",
   "execution_count": null,
   "metadata": {
    "tags": []
   },
   "outputs": [],
   "source": [
    "# Define a numpy array of the same dimesions as the grid filled with zeros\n",
    "Z = np.zeros((len(x), len(y))) \n",
    "\n",
    "for i in range(len(x)): # Iterate through the x coordinates\n",
    "    for j in range(len(y)): # Iterate through the y coordinates\n",
    "        Z[i, j] = 4*x[i]**2 + y[j]**2\n",
    "        \n",
    "print(\"Z coordinates:\\n{}\\n\".format(Z))"
   ]
  },
  {
   "cell_type": "markdown",
   "metadata": {},
   "source": [
    "In the example, the Z values at each point were calculated. Notice, though, that the shape of Z is different than the X and Y matricies. While X and Y had 5 columns and 7 rows (corresponding the 5 x-values and the 7 y-values), Z has 7 rows and 5 columns. Moreover, the value in the second column, first row correspond to x = 0, y = 1, while the value in the first column, second row corresponds to x = 1, y = 0. *This is opposite to what we would have anticipated!*"
   ]
  },
  {
   "cell_type": "code",
   "execution_count": null,
   "metadata": {
    "tags": []
   },
   "outputs": [],
   "source": [
    "print(\"First row, second column: 4*{}^2 + {}^2 = {}\".format(X[1,0],Y[1,0],Z[0,1]))\n",
    "print(\"Second row, first column: 4*{}^2 + {}^2 = {}\".format(X[0,1],Y[0,1],Z[1,0]))"
   ]
  },
  {
   "cell_type": "markdown",
   "metadata": {},
   "source": [
    "What is going on is that while we're used to thinking about x as the \"first\" coordinate and y as the \"second\", the way Numpy represents matrices is exactly the opposite. Numpy stores data in \"row major\" order, so the row index (what we generally think of as the \"y value\") comes first while the column index (what we generally think of as the \"x value\") comes second: \\[row, col\\].\n",
    "\n",
    "Once the situation understood, the fix is straight-foward. The code from two cells above is rewritten below using row-major format, and a contour plot of the results is produced. Notice that there are changes to both the initial definition of Z and the calculation of Z in the loop. To help you visualize these results, a contour plot of the values of Z is also shown."
   ]
  },
  {
   "cell_type": "code",
   "execution_count": null,
   "metadata": {
    "tags": []
   },
   "outputs": [],
   "source": [
    "Z = np.zeros((len(y), len(x))) # Changes to the definition of the matrix are made here\n",
    "\n",
    "for i in range(len(x)): # Iterate through the x coordinates\n",
    "    for j in range(len(y)): # Iterate through the y coordinates\n",
    "        Z[j, i] = 4*x[i]**2 + y[j]**2 # In this line, Z[i, j] has been changed to Z[j, i]\n",
    "        \n",
    "print(\"Z coordinates:\\n{}\\n\".format(Z))\n",
    "\n",
    "fig1 = plt.figure(figsize=(8, 8))\n",
    "ax1 = fig1.add_subplot(111)\n",
    "ax1.contour(x, y, Z)\n",
    "ax1.set_xlabel('$x$')\n",
    "ax1.set_ylabel('$y$')\n",
    "ax1.set_title(\"Example Contour Plot\")\n",
    "plt.show()"
   ]
  },
  {
   "cell_type": "markdown",
   "metadata": {},
   "source": [
    "## a) Vector Plots\n",
    "**Write a script which generates a vector field plot for a pair of charges: +1C at (0, 0) and -1C at (0,1). The requirements are as follows:**\n",
    "* **The location and size of the charges should be entered as variables, so that you can easily change those and rerun the code to see what happens**\n",
    "* **You are not required to use color. However, if you don't choose to use color to represent the magnitude of the vector, then the length of the vectors in the vector field should match the magnitude of the field. This will likely cause some of the vectors to be very long**\n",
    "* **Your axes should be labeled and your plot should have a title. The plot should show a reasonable subsection of the electric field.**\n",
    "\n",
    "\n",
    "To make a vector plot, use [plt.quiver](https://matplotlib.org/3.1.1/api/_as_gen/matplotlib.axes.Axes.quiver.html). With <em>plt.quiver(X, Y, U, V)</em>, the first pair of arguments (X, Y) define the arrow locations, and the second pair of arguments (U, V) set the length of the arrows. U and V refer to the X and Y components, respecively.\n",
    "\n",
    "Another fun thing that you can do with plt.quiver is to change the color. The fifth argument (or the third argument, if you don't use X and Y positional arrays, which are technically optional, though highly recommended by me) is for an additional meshgrid that defines the color on a numerical scale. To change the color scheme, you can use the keyword argument cmap. For colormap options, see [this document from matplotlib](https://matplotlib.org/tutorials/colors/colormaps.html). You don't have to use color for this assignment, but it does make it prettier!\n",
    "\n",
    "Below is some sample code that may help you with this implimentation. Additional comments are included if you need a refresher on some of these commands. Also, remember that you can always google a command and read the documentation, which often has its own examples!"
   ]
  },
  {
   "cell_type": "code",
   "execution_count": null,
   "metadata": {
    "tags": []
   },
   "outputs": [],
   "source": [
    "\"\"\"This example code plots a vector field where all of the arrows are\n",
    "    equal to vecors (2x, y). The color\n",
    "    corresponds to the magnitude of the arrow.\"\"\"\n",
    "\n",
    "# Generate a one-dimensional array\n",
    "x = np.linspace(-1, 1, 40)\n",
    "y = np.linspace(-0.5, 0.5, 20)\n",
    "\"\"\"np.linspace(start, stop, N) returns an array of N evenly spaced\n",
    "    numbers over the specified interval [start, stop]. For example,\n",
    "    np.linspace(0, 1, 3) would output [0, 0.5, 1]\"\"\"\n",
    "\n",
    "\n",
    "# Convert 1D arrays to 2D meshgrids\n",
    "X, Y = np.meshgrid(x, y)\n",
    "print(\"The shape of the orginal array \\\"x\\\" is %s, while \\\n",
    "the shape of the meshgrid X is %s\" %(x.shape, X.shape))\n",
    "\n",
    "# Define an array that will contain the magnitudes of the vectors (2 x, y)\n",
    "Z = np.zeros((len(y), len(x)))\n",
    "\n",
    "for i in range(len(x)):\n",
    "    for j in range(len(y)):\n",
    "        Z[j, i] = np.sqrt(4*x[i]**2 + y[j]**2)\n",
    "\n",
    "\n",
    "# Plot Vector Grid\n",
    "fig1 = plt.figure(figsize=(8, 4))\n",
    "\"\"\"plt.figure returns an instance of a Figure object. \n",
    "    This means that you create the figure and then add the plots\n",
    "    onto it. The figsize command gives the desired width and height\n",
    "    of the figure in inches.\"\"\"\n",
    "\n",
    "ax1 = fig1.add_subplot(111)\n",
    "\"\"\"fig.add_subplot adds a plot (technically and Axes instance) \n",
    "    onto the figure and returns it. The argument here is three\n",
    "    digits, for the number of rows, columns, and the index. For \n",
    "    example, you could do ax1 = fig.add_subplot(211) and \n",
    "    ax2 = fig.add_subplot(212) which would create two plots on the \n",
    "    top and bottom of the figure, with ax1 being on top and ax2\n",
    "    being on the bottom. By using the return (the ax1 part), we\n",
    "    can add things onto that plot instance.\"\"\"\n",
    "\n",
    "ax1.quiver(X, Y, 2*X, Y, Z, cmap='twilight')\n",
    "\n",
    "ax1.set_xlabel('$x$')\n",
    "ax1.set_ylabel('$y$')\n",
    "\"\"\"The $x$ is a LaTeX (and Markdown, which jupyter uses in the text \n",
    "    cells) convention. Putting dollar signs around it makes it an \n",
    "    equation. In this case, that just means it ends up being\n",
    "    italicized. You can also use these standards to include special\n",
    "    symbols such as Greek letters or mathematical symbols.\"\"\"\n",
    "\n",
    "# Add a point\n",
    "ax1.scatter(0, 0, c='b')\n",
    "\n",
    "plt.show()"
   ]
  },
  {
   "cell_type": "markdown",
   "metadata": {},
   "source": [
    "Finally, a couple of tips that apply to this and part b).\n",
    "* It'll make your life a lot easier to write a function that does your calculation for the electric field. This should take as inputs the magnitude of charge, the location of the charge, and the point of interest you're looking at, and output the components of the electric field vector due to that charge. You should have seen functions back in 234, but as a reminder, a basic function would look like:\n",
    "<pre><code>def say_hello( name ): # Define the function \"say_hello\" that takes one argument, \"name\".\n",
    "    print(\"Hello \", name) \n",
    "    return # End the function and return nothing<br>\n",
    "say_hello(\"Dave\")\n",
    "</code></pre>\n",
    "* As in the examples above, you can easily iterate over the 2D space with a nested for-loop. If you are using a function, your code might look something like:\n",
    "<pre><code>for i in range(res):\n",
    "    for j in range(res):\n",
    "        e1x, e1y = E(q1_mag, q1_pos, (x[i], y[j]))\n",
    "        e2x, e2y = E(q2_mag, q2_pos, (x[i], y[j]))\n",
    "        Ex[j,i] = e1x + e2x\n",
    "        Ey[j,i] = e1y + e2y   \n",
    "</code></pre>"
   ]
  },
  {
   "cell_type": "code",
   "execution_count": null,
   "metadata": {
    "tags": []
   },
   "outputs": [],
   "source": [
    "## Your code for a vector plot of the electric field produced by two charges here.\n",
    "\n",
    "# Optional, template function for the electric field\n",
    "def E(q, q_loc, r0):\n",
    "    \"\"\"Return the electric field vector E=(Ex,Ey) at r0 due to charge q located at q_loc.\"\"\"\n",
    "    k = 8.99 * 10**9 # Coulomb's constant in Nm^2/C^2\n",
    "\n",
    "    E = (1,1) # Replace with your calculation for E\n",
    "    return E\n",
    "\n",
    "def color(q):\n",
    "    \"\"\"Bonus code to  make it easy to have negative and\n",
    "    positive charges be different colors\"\"\"\n",
    "    if np.sign(q) >= 1:\n",
    "        return 'b'\n",
    "    elif np.sign(q) < 1:\n",
    "        return 'r'\n",
    "\n",
    "    \n",
    "# Define locations, and charges\n",
    "q1_loc = (0, -0.5) # Feel free to change values to explore what happens\n",
    "q1 = 1\n",
    "\n",
    "q2_loc = (0, 0.5)\n",
    "q2 = -1\n",
    "\n",
    "# Add code to create grid of points\n",
    "\n",
    "# Add code to calculate Ex and Ey at each point in the grid\n",
    "\n",
    "#Plot Vector Grid\n",
    "fig1 = plt.figure(figsize=(8, 8))\n",
    "ax1 = fig1.add_subplot(111)\n",
    "\n",
    "\n",
    "# Add code to plot the vectors using ax1.quiver, plot charges using ax1.scatter\n",
    "\n",
    "ax1.set_xlabel('$x$')\n",
    "ax1.set_ylabel('$y$')\n",
    "ax1.set_title(\"Electric Field Vectors from a Dipole\")\n",
    "plt.show()\n",
    "\n",
    "\n"
   ]
  },
  {
   "cell_type": "markdown",
   "metadata": {},
   "source": [
    "## b) Field Line Plots\n",
    "**Approximate a field line plot using the package [plt.streamplot](https://matplotlib.org/3.1.1/api/_as_gen/matplotlib.pyplot.streamplot.html#matplotlib.pyplot.streamplot). Once again, assume you have two charges: +1C at (0, 0) and -1C at (0,1).\n",
    " The requirements are as follows:**\n",
    "* **The location and size of the charges should be entered as variables, so that you can easily change those and rerun the code to see what happens**\n",
    "* **Color is optional**\n",
    "* **Your axes should be labeled and your plot should have a title. The plot should show a reasonable subsection of the electric field.****\n",
    "You may find it easiest to replicate most of your code from part a) here.\n",
    "\n",
    "With <em>plt.streamplot(x, y, U, V)</em>, x and y are 1D arrays that define the grid that the lines are drawn on, and U and V are meshgrids which give the x- and y-velocities, respectively.\n",
    "\n",
    "Similarly to plt.quiver, you can add a keyword argument color to set a 2D array or meshgrid for the colors, and use the cmap argument to govern the color scheme\n",
    "\n",
    "It's worth a note that the lines in the streamplot end, which the lines of the electric field do not. This is because there is a maximum density of the lines. To change the density, you can use the density keyword argument, as seen below in the example code."
   ]
  },
  {
   "cell_type": "code",
   "execution_count": null,
   "metadata": {
    "tags": []
   },
   "outputs": [],
   "source": [
    "\"\"\"This example code plots a streamplot for the vector field (2x, y).\"\"\"\n",
    "\n",
    "#Generate a one-dimensional array\n",
    "x = np.linspace(-1, 1, 40)\n",
    "y = np.linspace(-0.5, 0.5, 20)\n",
    "\n",
    "# Define an array that will contain the magnitudes of the vectors (2 x, y)\n",
    "Z = np.zeros((len(y), len(x)))\n",
    "\n",
    "for i in range(len(x)):\n",
    "    for j in range(len(y)):\n",
    "        Z[j, i] = np.sqrt(4*x[i]**2 + y[j]**2)\n",
    "\n",
    "#Convert 1D arrays to 2D meshgrids\n",
    "X, Y = np.meshgrid(x, y)\n",
    "\n",
    "#Plot Vector Grid\n",
    "fig1 = plt.figure(figsize=(12, 6))\n",
    "ax1 = fig1.add_subplot(111)\n",
    "ax1.streamplot(X, Y, 2*X, Y, density=4, \n",
    "               color=Z, cmap='autumn')\n",
    "\n",
    "ax1.set_xlabel('$x$')\n",
    "ax1.set_ylabel('$y$')\n",
    "\n",
    "#Add a point\n",
    "ax1.scatter(0, 0, c='b')\n",
    "\n",
    "plt.show()"
   ]
  },
  {
   "cell_type": "code",
   "execution_count": null,
   "metadata": {
    "tags": []
   },
   "outputs": [],
   "source": [
    "## Your code for a streamplot of the electric field produced by two charges here.\n",
    "\n"
   ]
  },
  {
   "cell_type": "markdown",
   "metadata": {},
   "source": [
    "# Bonus/For Fun\n",
    "As you've seen in past classes, one of the things that makes python so powerful is that it's generalizable. In the code you just wrote, you can change the size and locations of the charges and see how the field changes. It should be relatively straightforward to make your code work for N charges. Give it a shot, if you like!"
   ]
  },
  {
   "cell_type": "code",
   "execution_count": null,
   "metadata": {},
   "outputs": [],
   "source": []
  }
 ],
 "metadata": {
  "kernelspec": {
   "display_name": "Python 3 (ipykernel)",
   "language": "python",
   "name": "python3"
  },
  "language_info": {
   "codemirror_mode": {
    "name": "ipython",
    "version": 3
   },
   "file_extension": ".py",
   "mimetype": "text/x-python",
   "name": "python",
   "nbconvert_exporter": "python",
   "pygments_lexer": "ipython3",
   "version": "3.11.4"
  }
 },
 "nbformat": 4,
 "nbformat_minor": 4
}
