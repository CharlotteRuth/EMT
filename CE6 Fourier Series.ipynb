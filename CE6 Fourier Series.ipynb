{
 "cells": [
  {
   "cell_type": "code",
   "execution_count": null,
   "metadata": {},
   "outputs": [],
   "source": [
    "import numpy as np\n",
    "import matplotlib.pyplot as plt\n",
    "\n",
    "#scipy.signal gives us easy access to different waveforms\n",
    "from scipy import signal"
   ]
  },
  {
   "cell_type": "markdown",
   "metadata": {},
   "source": [
    "# Computational Exercise 6: Fourier Series and the Fourier Transform\n",
    "\n",
    "As you've seen in class, using Fourier series is a powerful tool for solving seemingly-complex problems. You may also have heard about the Fourier transform. The Fourier series has the equation has the general form\n",
    "$$C_N(x) = \\frac{a_0}{2} + \\sum_{n=1}^{N} (a_n \\cos(\\frac{2 \\pi n x}{T}) + b_n \\sin(\\frac{2 \\pi n x}{T}))$$\n",
    "\n",
    "This equation lets us find a series of coefficients that we can use to decompose a periodic function into a series of sines and cosines -- what Griffith's calls __Fourier's trick__. The Fourier transform lets us move between the time domain and the frequency domain for any function. Basically, this means that we can represent _any_ function as a superposition of sine and cosine functions, rather than just periodic functions. A plot of a function in the frequency domain places the frequncy on the horizontal axis and the intensity of each frequency on the vertical. The Fourier transform equation is\n",
    "$$F(\\omega) = \\int_{- \\infty}^{\\infty} f(t) e^{-i \\omega t} dt$$\n",
    "For an excellent explanation of where this equation comes from and what it means, watch this [20 minute video from 3Blue1Brown](https://www.youtube.com/watch?v=spUNpyF58BY)."
   ]
  },
  {
   "cell_type": "markdown",
   "metadata": {},
   "source": [
    "## a) Generating a Square Wave\n",
    "\n",
    "In this section, we'll take a step back and look at generating functions using Fourier Series. Since you should have already seen the analytic solution to the Fourier transform of a square wave (see Ex 3.3), you will use that result to write code to generate and plot a square wave. **Specifically, use a loop to plot the sum of a series of sine functions (equation 3.31) with the amplitudes as determined by equation 3.35. Please plot each step of the summation on the same graph, overtop of a square wave.**\n",
    "\n",
    "To generate a square wave, you can use <code>signal.square</code>, which takes in an input array (such as the t from part 1 and returns a square wave with a range from -1 to 1 and a period of $2\\pi$. To give it a half-length of 1, multiply by $\\pi$. This part is given.\n",
    "\n",
    "Things to think about: *How can you see things change as you increase the number of components added? What aspects of the approximation get closer as you increase the number of components, and what don't?*"
   ]
  },
  {
   "cell_type": "code",
   "execution_count": null,
   "metadata": {
    "scrolled": false
   },
   "outputs": [],
   "source": [
    "#Half-length of wave\n",
    "l = 3\n",
    "\n",
    "#Generate Square Wave\n",
    "t = np.linspace(0,2*l,100)\n",
    "square = signal.square(np.pi*t/l)\n",
    "\n",
    "#Create figure\n",
    "fig = plt.figure(figsize=(4, 4))\n",
    "ax = fig.add_subplot(111)\n",
    "ax.plot(t, square)\n",
    "#/\n",
    "#Number of components to sum\n",
    "num_sines = 30\n",
    "\n",
    "y = 0\n",
    "for i in range(num_sines):\n",
    "    n = i*2 + 1 #Get odd numbers\n",
    "    coeff = 4 / (n * np.pi) #Calculate the coefficent\n",
    "    omega = n / (2 * l) #Calculate angular frequency\n",
    "    \n",
    "    #add each new component to the previous ones\n",
    "    y += coeff * np.sin(2 * np.pi * omega * t)\n",
    "    ax.plot(t, coeff * np.sin(2 * np.pi * omega * t))\n",
    "ax.plot(t, y, alpha=.75,color= 'k')\n",
    "ax.set_xlim(0, 2*l)\n",
    "ax.set_xlabel('x')\n",
    "ax.set_ylabel('$V_0$')\n",
    "#/\n",
    "plt.show()"
   ]
  },
  {
   "cell_type": "markdown",
   "metadata": {},
   "source": [
    "## Introduction to Fast Fourier Transforms\n",
    "While it is often possible to analytically solve the the integrals in Fourier's trick to determine the coefficients (i.e., complete a Fourier Transform), we can also ask a computer to do it for us. This exercise will first walk you through an example of doing a Fourier transform in python, then ask you to work on your own. \n",
    "\n",
    "First, we'll start by declaring some initial values of the function we want to do the Fourier Transformation on. We'll choose to use [np.arange](https://numpy.org/doc/stable/reference/generated/numpy.arange.html) rather than np.linspace, just since we'll want to know the sample spacing when generating the transform later. In the example, the initial function is the sum of two sine waves of different frequencies.\n",
    "\n"
   ]
  },
  {
   "cell_type": "code",
   "execution_count": null,
   "metadata": {},
   "outputs": [],
   "source": [
    "sample_spacing = .01\n",
    "end_time = 10\n",
    "\n",
    "# Frequency of the signals\n",
    "y1Frequency     = 4;\n",
    "y2Frequency     = 7;\n",
    "\n",
    "# Time points\n",
    "# t = np.linspace(0, end_time, end_time*sampling_frequency);\n",
    "t = np.arange(0, end_time, sample_spacing)\n",
    "\n",
    "\n",
    "# Create two sine waves\n",
    "y1 = np.sin(2*np.pi*y1Frequency*t)\n",
    "y2 = np.sin(2*np.pi*y2Frequency*t)\n",
    "\n",
    "# Sum sine waves\n",
    "y3 = y1 + y2"
   ]
  },
  {
   "cell_type": "markdown",
   "metadata": {},
   "source": [
    "Next, we'll use [np.fft.fft](https://numpy.org/doc/stable/reference/generated/numpy.fft.fft.html) to find the Fourier transform. This function uses an algorithm known as the Fast Fourier Transform. NumPy makes this very simple, so you can just feed your data into the function, as seen below. However, this function does return the Fourier transform in complex form, so we'll need to take the absolute value of it for our purposes\n",
    "\n",
    "To plot this on the freqency domain we can use [np.fft.fftfreq](https://numpy.org/doc/stable/reference/generated/numpy.fft.fftfreq.html), which generates a correct mapping of the frequencies. There are ways to do this by hand, but since we're using a computer, we don't have to!"
   ]
  },
  {
   "cell_type": "code",
   "execution_count": null,
   "metadata": {},
   "outputs": [],
   "source": [
    "ft = np.abs(np.fft.fft(y3))\n",
    "freq_domain = np.fft.fftfreq(len(ft), d=sample_spacing)"
   ]
  },
  {
   "cell_type": "markdown",
   "metadata": {},
   "source": [
    "This next cell plots the datasets we've generated above. "
   ]
  },
  {
   "cell_type": "code",
   "execution_count": null,
   "metadata": {
    "scrolled": false
   },
   "outputs": [],
   "source": [
    "fig = plt.figure(figsize=(10, 10))\n",
    "ax1 = fig.add_subplot(411)\n",
    "ax1.plot(t, y1)\n",
    "ax1.set_title(\"Sine wave with $f$ = {}\".format(y1Frequency))\n",
    "\n",
    "ax2 = fig.add_subplot(412)\n",
    "ax2.plot(t, y2)\n",
    "ax2.set_title(\"Sine wave with $f$ = {}\".format(y2Frequency))\n",
    "\n",
    "ax3 = fig.add_subplot(413)\n",
    "ax3.plot(t, y3)\n",
    "ax3.set_title(\"Sum of above sine waves\")\n",
    "\n",
    "ax4 = fig.add_subplot(414)\n",
    "ax4.plot(freq_domain, ft)\n",
    "ax4.set_xlim(y1Frequency-2, y2Frequency+2)\n",
    "ax4.set_title(\"Power Spectrum\")\n",
    "\n",
    "fig.tight_layout()\n",
    "\n",
    "plt.show()\n",
    "\n"
   ]
  },
  {
   "cell_type": "markdown",
   "metadata": {},
   "source": [
    "## b) Finding the Fourier Spectrum\n",
    "\n",
    "In this section, you'll use what we learned in above introduction to Fast Fourier Transforms to analyze the spectrum of a sawtooth wave. \n",
    "\n",
    "__For part b)__\n",
    "* __First, use [signal.sawtooth](https://docs.scipy.org/doc/scipy/reference/generated/scipy.signal.sawtooth.html#scipy.signal.sawtooth) to generate the wave (this part is given).__\n",
    "* __Then, use np.fft.fft to find the spectrum, and [signal.find_peaks](https://docs.scipy.org/doc/scipy/reference/generated/scipy.signal.find_peaks.html) to get a list of the indices of the peaks in the Fourier transform.__ \n",
    "* __Then, plot sum of the first few components of the series, using the freqencies based on the peak location, and the amplitudes based on the heights of the peaks. This sum should look a lot like your input signal, if all went well.__\n",
    "\n",
    "Things to think about: *Is this an odd or an even function? What does that mean, and how does it affect your Fourier analysis?*\n",
    "\n",
    "Some tips:\n",
    "* signal.sawtooth, just like the square wave, starts out with a period of $2\\pi$\n",
    "* when using signal.find_peaks, don't forget to make sure you're working with the absolute value of the result of np.fft.fft\n",
    "* signal.find_peaks may start by giving you far more peaks than actually exist (you can check this by plotting the fft and the a scatter of the find_peaks result on the same graph). Try adding the height argument into find_peaks (e.g. <code>peaks, properties = signal.find_peaks(ft, height=1)</code> to filter out the smaller peaks. You may need to adjust the value of height to get the results you're looking for\n",
    "* signal.find_peaks actually returns 2 different things. The first is a list of the indices of the peaks in the fourier transform. This is pretty convenient, since you can use the same indices to find the points in both the x and y arrays. The second item it returns is what's known as a dict (short for dictionary). Dictionaries let you index based on key words. A useful example would be:<pre><code>\n",
    "peaks, properties = signal.find_peaks(ft, height=1)\n",
    "peak_heights = properties['peak_heights']</pre></code>\n",
    "  This will allow you to find the heights of each peak, in the same order as in the peaks array"
   ]
  },
  {
   "cell_type": "code",
   "execution_count": null,
   "metadata": {},
   "outputs": [],
   "source": [
    "#Create saw wave\n",
    "saw = signal.sawtooth(2*np.pi * t)\n",
    "\n",
    "#/\n",
    "#Set up plot\n",
    "fig = plt.figure(figsize=(8, 8))\n",
    "ax1 = fig.add_subplot(311)\n",
    "ax1.plot(t, saw)\n",
    "ax1.set_title(\"Sawtooth wave\")\n",
    "\n",
    "#Find Fourier transform of saw wave\n",
    "ft = np.abs(np.fft.fft(saw))\n",
    "freq_domain = np.fft.fftfreq(len(ft), d=sample_spacing)\n",
    "\n",
    "#Get the peaks \n",
    "peaks, properties = signal.find_peaks(ft, height=1)\n",
    "\n",
    "#Plot the peaks on top of the fourier spectrum\n",
    "ax2 = fig.add_subplot(312)\n",
    "ax2.plot(freq_domain, ft)\n",
    "for p in peaks:\n",
    "    ax2.scatter(freq_domain[p], ft[p], c='r', marker='x')\n",
    "ax2.set_xlim(0, 10)\n",
    "ax2.set_title(\"Fourier Spectrum w/ Peaks Plotted\")\n",
    "\n",
    "#Plot first few sine component\n",
    "num_sines = 50\n",
    "max_height  = properties['peak_heights'][0]\n",
    "\n",
    "y=0\n",
    "ax3 = fig.add_subplot(313)\n",
    "for i in range(num_sines):\n",
    "    h = properties['peak_heights'][i] / max_height\n",
    "    y += -h * np.sin(2*np.pi * freq_domain[peaks[i]] * t)\n",
    "\n",
    "ax3.plot(t, y)\n",
    "ax3.set_title(\"Sawtooth Generated from Fourier Analysis w/ {} Components\".format(num_sines))\n",
    "\n",
    "fig.tight_layout()\n",
    "plt.show()\n",
    "#/"
   ]
  },
  {
   "cell_type": "markdown",
   "metadata": {},
   "source": [
    "## Introduction of Fast Fourier Transform with Noisy Data\n",
    "\n",
    "One of the powerful features of Fourier Transformations is that they allow researchers to determine underlying behavior from noisy data. An example of how Fast Fourier Transformations work on noisy data is below.\n",
    "\n",
    "The below cell follows the example in \"Introduction of Fast Fourier Transform,\" but also generates some \"noise,\" which is added to function. To do this, np.random.rand creates a of pseudo-random numbers (meaning they're not *technically* random, but they're random enough for our purposes) of the desired length. These numbers are all between 0 and 1, so we can multiply to get a different range. This noise is then added to the input signal.\n",
    "\n",
    "Things to think about: *Try increasing the magnitude of the noise, and re-running! Qualitatively, at what point does the noise overtake your ability to see the signal in the time-domain plot and in the frequency-domain plot?*"
   ]
  },
  {
   "cell_type": "code",
   "execution_count": null,
   "metadata": {},
   "outputs": [],
   "source": [
    "sample_spacing = .01\n",
    "end_time = 10\n",
    "\n",
    "# Frequency of the signals\n",
    "y1Frequency     = 4;\n",
    "y2Frequency     = 7;\n",
    "\n",
    "# Time points\n",
    "# t = np.linspace(0, end_time, end_time*sampling_frequency);\n",
    "t = np.arange(0, end_time, sample_spacing)\n",
    "\n",
    "\n",
    "# Create two sine waves\n",
    "y1 = np.sin(2*np.pi*y1Frequency*t)\n",
    "y2 = np.sin(2*np.pi*y2Frequency*t)\n",
    "\n",
    "# Sum sine waves\n",
    "y3 = y1 + y2\n",
    "\n",
    "# Noise\n",
    "noise_mag = 2\n",
    "noise = np.random.rand(len(t))*noise_mag - noise_mag/2\n",
    "\n",
    "# Add noise\n",
    "y3_noisy = y3 + noise\n",
    "\n",
    "\n",
    "ft_noise = np.abs(np.fft.fft(y3_noisy))"
   ]
  },
  {
   "cell_type": "code",
   "execution_count": null,
   "metadata": {},
   "outputs": [],
   "source": [
    "fig = plt.figure(figsize=(10, 10))\n",
    "ax1 = fig.add_subplot(311)\n",
    "ax1.plot(t, y3)\n",
    "ax1.set_title(\"Signal with added noise\")\n",
    "\n",
    "ax2 = fig.add_subplot(312)\n",
    "ax2.plot(t, y3_noisy)\n",
    "ax2.set_title(\"Signal with added noise\")\n",
    "\n",
    "ax3 = fig.add_subplot(313)\n",
    "ax3.set_xlim(y1Frequency-2, y2Frequency+2)\n",
    "ax3.plot(freq_domain, ft_noise)\n",
    "ax3.set_title(\"Fourier transform of noisy signal\")\n",
    "\n",
    "fig.tight_layout()\n",
    "\n",
    "plt.show()"
   ]
  },
  {
   "cell_type": "markdown",
   "metadata": {},
   "source": [
    "## c) Recreating Unknown Data\n",
    "\n",
    "Let's say that you're a researcher and you've been given a dataset with a lot of noise.  **Use Fourier analysis on the data in 'CE6_signal.npy' to try and recreate the pure signal!**\n",
    "\n",
    "Two hints:\n",
    "* There's a lot of noise on this one, so you'll need to play with the height argument in signal.find_peaks. I'd recommend looking at the Fourier spectrum and trying to identify by eye what the highest peaks are. Then set the height to be in between those peaks and the noise below\n",
    "* The FFT will get both positive and negative component frequencies, with the negative ones just being the mirror of the positive components. We won't need these components for our purposes. It should be simple to get rid of these, as np.fft.fft starts with the positive components. When you loop through the peaks array, try setting the range to the (length of that array)/2 so that you skip the negative components."
   ]
  },
  {
   "cell_type": "code",
   "execution_count": null,
   "metadata": {},
   "outputs": [],
   "source": [
    "s = np.load('CE6_signal.npy')\n",
    "\n",
    "#/\n",
    "fig = plt.figure(figsize=(8,8))\n",
    "ax1 = fig.add_subplot(311)\n",
    "ax1.plot(t, s)\n",
    "ax1.set_title(\"Original Signal\")\n",
    "\n",
    "ft = np.abs(np.fft.fft(s))\n",
    "\n",
    "#Get the peaks \n",
    "peaks, properties = signal.find_peaks(ft, height=400)\n",
    "\n",
    "#Plot the peaks on top of the fourier spectrum\n",
    "ax2 = fig.add_subplot(312)\n",
    "ax2.plot(freq_domain, ft)\n",
    "for p in peaks:\n",
    "    ax2.scatter(freq_domain[p], ft[p], c='r', marker='x')\n",
    "ax2.set_xlim(0, 20)\n",
    "ax2.set_title(\"Fourier Spectrum w/ Peaks Plotted\")\n",
    "\n",
    "#Plot first few sine component\n",
    "max_height  = properties['peak_heights'][0]\n",
    "\n",
    "y=0\n",
    "ax3 = fig.add_subplot(313)\n",
    "for i in range(int(len(peaks) / 2)):\n",
    "    h = properties['peak_heights'][i] / max_height\n",
    "    y += -h * np.sin(2*np.pi * freq_domain[peaks[i]] * t)\n",
    "\n",
    "ax3.plot(t, y)\n",
    "ax3.set_title(\"Signal Generated from Fourier Analysis w/ {} Components\".format(len(peaks)/2))\n",
    "\n",
    "fig.tight_layout()\n",
    "plt.show()\n",
    "#/"
   ]
  },
  {
   "cell_type": "markdown",
   "metadata": {},
   "source": [
    "\n"
   ]
  },
  {
   "cell_type": "code",
   "execution_count": null,
   "metadata": {},
   "outputs": [],
   "source": []
  }
 ],
 "metadata": {
  "kernelspec": {
   "display_name": "Python 3",
   "language": "python",
   "name": "python3"
  },
  "language_info": {
   "codemirror_mode": {
    "name": "ipython",
    "version": 3
   },
   "file_extension": ".py",
   "mimetype": "text/x-python",
   "name": "python",
   "nbconvert_exporter": "python",
   "pygments_lexer": "ipython3",
   "version": "3.8.8"
  }
 },
 "nbformat": 4,
 "nbformat_minor": 4
}
