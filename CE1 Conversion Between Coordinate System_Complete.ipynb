{
 "cells": [
  {
   "cell_type": "code",
   "execution_count": null,
   "metadata": {
    "tags": []
   },
   "outputs": [],
   "source": [
    "# NumPy, short for Numerical Python, is our go-to package for math\n",
    "import numpy as np\n",
    "\n",
    "# MatPlotLib's pyplot module has lots of tools for making plots\n",
    "import matplotlib.pyplot as plt\n",
    "\n",
    "# This import enables 3D plotting, as some computers are not initially\n",
    "#   configured with it enabled\n",
    "from mpl_toolkits.mplot3d.axes3d import Axes3D\n",
    "\n",
    "# A custom package written for this exercise to help with polar plotting\n",
    "from polar3d import *\n"
   ]
  },
  {
   "cell_type": "markdown",
   "metadata": {},
   "source": [
    "# Computational Exercise 1: Conversion Between Coordinate Systems\n",
    "\n",
    "In this exercise, we'll be looking at how to convert between different coordinate systems. There are 3 parts to this exercise:\n",
    "1. Plotting a sphere in cartesian coordinates\n",
    "2. Plotting a sphere in circular coordinates\n",
    "3. Plotting a sphere in cylindrical coordinates\n",
    "\n",
    "For all of these, use Griffiths's standards for coordinate systems, which you can see in Griffiths Ch. 1 4.1 & 4.2. Also, look at Griffiths pg. 596 for some useful equations."
   ]
  },
  {
   "cell_type": "markdown",
   "metadata": {},
   "source": [
    "## a) Plotting a Sphere in Cartesian Coordinates\n",
    "\n",
    "In the code below, np.mgrid creates a grid of values for $\\theta$ and $\\phi$.\n",
    "__Use the given theta_grid and phi_grid values as well as r = 1 to calculate x, y, and z. Then run the code to plot the surface of a sphere using your values of x, y, and z__.\n",
    "\n",
    "*Reminder*: You can use trig functions with `np.sin`, `np.cos`, and `np.tan`. Inverse trig functions that might be helpful are `np.arcsin`, `np.arccos`, and `np.arctan`."
   ]
  },
  {
   "cell_type": "code",
   "execution_count": null,
   "metadata": {
    "tags": []
   },
   "outputs": [],
   "source": [
    "# Create a grid of values for theta running from 0.01 to pi and phi running from 0 to 2 pi\n",
    "    # Starting theta from 0.001 instead of 0 to avoid division by zero issues later on\n",
    "theta_grid, phi_grid =  np.mgrid[0.001:np.pi:50j, 0.0:2.0*np.pi:50j] \n",
    "# Set the radius of the sphere to 1\n",
    "r_grid = 1\n",
    "\n",
    "\"\"\"\n",
    "Put your code to go from r_grid, phi_grid, and theta_grid to x, y, z here.\n",
    "We'll talk about np.mgrid in the next lab, but it's important\n",
    "for making plt.plot_surface work correctly\n",
    "\"\"\"\n",
    "### REPLACE the following three lines with your calculations for x, y, and z\n",
    "x = 1\n",
    "y = 1\n",
    "z = 1\n",
    "\n",
    "#/\n",
    "x = r_grid * np.sin(theta_grid) * np.cos(phi_grid)\n",
    "y = r_grid * np.sin(theta_grid) * np.sin(phi_grid)\n",
    "z = r_grid * np.cos(theta_grid)\n",
    "#/\n",
    "\n",
    "\n",
    "fig = plt.figure(figsize=plt.figaspect(1)*4)  # Square figure\n",
    "ax = fig.add_subplot(111, projection='3d')\n",
    "\n",
    "ax.plot_surface(x, y, z)\n",
    "ax.set_box_aspect((1, 1, 1))  # Sets the aspect ratio of the 3-d volume\n",
    "plt.show()"
   ]
  },
  {
   "cell_type": "markdown",
   "metadata": {},
   "source": [
    "## b) Converting from Rectangular to Spherical Coordinates\n",
    "\n",
    "__In the next cell, convert your x, y, and z from the last cell into r, phi, and theta. Then run the code to generate a sphere using your values of r, phi, and theta.__ The function *spherical3d()* will handle generating the figure, since there is no built-in python function for that.\n",
    "\n",
    "Beyond just typing in the equations (though before you do, check the hints below), I suggest you try putting in the equations wrong in interesting ways. For example, what if you swap the $arccos$ and $arctan$?  Or add or subtract a $\\frac{\\pi}{2}$? Or just add coefficients in different places?\n",
    "\n",
    "An __important__ hint: *when you do the conversion, you'll likely find that only half the sphere is plotted or that it looks stretched.* This type of error can occur because the $arctan$ function is surjective over $\\mathbb{R}$. Specifically, the $arctan$ function will produce values between $-\\pi/2$ and $\\pi/2$ while you will want $\\phi$ to run from 0 to $2 \\pi$.  There are different ways to fix this error. For example:\n",
    "<pre><code>phi[np.where(x < 0)] = phi[np.where(x < 0)] - np.pi\n",
    "</code></pre>\n",
    "will apply a $-\\pi$ adjustment to all places in phi where x was less than 0.\n",
    "\n",
    "You may also notice some artifacting along meridians of the sphere. This comes up due to dividing zero by zero in the phi calculation, and you can ignore it."
   ]
  },
  {
   "cell_type": "code",
   "execution_count": null,
   "metadata": {
    "tags": []
   },
   "outputs": [],
   "source": [
    "\"\"\"Put your code converting from x, y, and z to r, theta and\n",
    "    phi here\"\"\"\n",
    "\n",
    "r = 1\n",
    "theta = 1\n",
    "phi = 1\n",
    "\n",
    "#/\n",
    "# Generate a sphere in spherical coordinates\n",
    "#   r = np.ones(50)\n",
    "#   phi = np.linspace(0, 2*np.pi, 50)\n",
    "#   theta = np.linspace(0, np.pi, 50)\n",
    "#   phi, theta= np.meshgrid(phi, theta)\n",
    "\n",
    "\n",
    "r = np.sqrt(x**2 + y**2 + z**2)\n",
    "theta = np.arccos(z/r)\n",
    "phi = np.arctan(y / x)\n",
    "\n",
    "phi[np.where(x < 0)] = phi[np.where(x < 0)] - np.pi\n",
    "#/\n",
    "\n",
    "\n",
    "spherical3d(r, theta, phi)\n",
    "plt.show()"
   ]
  },
  {
   "cell_type": "markdown",
   "metadata": {},
   "source": [
    "## c) Converting from Rectangular to Cylindrical Coordinates\n",
    "\n",
    "__In the next cell, convert from your x, y, and z to s, phi, and z. Then run the cell to plot a sphere in cylindrical coordinates.__ The function *cylindrical3d()* will handle generating the figure, as *spherical3d()* did above.\n",
    "\n",
    "Once again, I suggest you try playing around with this conversion to get an intuitive understanding."
   ]
  },
  {
   "cell_type": "code",
   "execution_count": null,
   "metadata": {},
   "outputs": [],
   "source": [
    "\"\"\"Put your code converting from x, y, and z to s, phi and\n",
    "    z here.\"\"\"\n",
    "\n",
    "s = 1\n",
    "phi = 1\n",
    "z_cyl = 1\n",
    "\n",
    "#/\n",
    "s = np.sqrt(x**2 + y**2)\n",
    "phi = np.arctan(y / x)\n",
    "phi[np.where(x < 0)] = phi[np.where(x < 0)] - np.pi\n",
    "z_cyl = z\n",
    "#/\n",
    "\n",
    "cylindrical3d(s, phi, z_cyl)\n",
    "plt.show()"
   ]
  }
 ],
 "metadata": {
  "kernelspec": {
   "display_name": "Python 3 (ipykernel)",
   "language": "python",
   "name": "python3"
  },
  "language_info": {
   "codemirror_mode": {
    "name": "ipython",
    "version": 3
   },
   "file_extension": ".py",
   "mimetype": "text/x-python",
   "name": "python",
   "nbconvert_exporter": "python",
   "pygments_lexer": "ipython3",
   "version": "3.11.4"
  }
 },
 "nbformat": 4,
 "nbformat_minor": 4
}
