{
 "cells": [
  {
   "cell_type": "code",
   "execution_count": null,
   "metadata": {},
   "outputs": [],
   "source": [
    "import numpy as np\n",
    "import matplotlib.pyplot as plt\n",
    "import matplotlib\n",
    "from mpl_toolkits.mplot3d import Axes3D\n",
    "\n",
    "#SciPy's special functions are a collection of different\n",
    "#   functions including spherical harmonics, Bessel, and Airy\n",
    "#   functions\n",
    "import scipy.special as sp"
   ]
  },
  {
   "cell_type": "markdown",
   "metadata": {},
   "source": [
    "# Computational Exercise 7: Spherical Harmonics\n",
    "\n",
    "Spherical harmonics, which are represented as $Y_{l}^{m}(\\theta, \\phi)$, are the angular part of the solutions to Laplace's equation in spherical coordinates. This derivation follows closely with Griffiths's derivation for separation of variables in spherical coordinates, but without azimuthal symmetry, meaning that the $\\phi$ term stays in the equation. \n",
    "\n",
    "## Introduction to Spherical Harmonics\n",
    "As Griffith's shows, the general solution for Laplace's equation in spherical coordinates with azimuthal symmetry is\n",
    "\n",
    "$$\n",
    "V(r, \\theta) = \n",
    "\\sum_{l=0}^{\\infty} \\Big(A_l r^l + \\frac{B_l}{r^{l+1}}\\Big) P_{l} (\\cos\\theta)\n",
    "$$\n",
    "\n",
    "You may remember that $P_l$ are the Legendre polynomial, which can be found with the Rodrigues formula: \n",
    "\n",
    "$$\n",
    "P_l (x) \\equiv \\frac{1}{2^l l!} \\Big(\\frac{d}{dx}\\Big)^l (x^2 - 1)^l\n",
    "$$\n",
    "\n",
    "For spherical harmonics, we use what are known as the associated Legendre polynomials, $P_{l}^{m}$. These take the form\n",
    "\n",
    "$$\n",
    "P_{l}^{m} \\equiv \\frac{1}{2^l l!} (1-x^2)^{m/2} \\Big(\\frac{d}{dx}\\Big)^{l+m} (x^2 - 1)^l$$\n",
    "\n",
    "where $l = 0, 1, 2, 3, ....$ and $m = -l, -l+1, ..., l-1, l$.\n",
    "\n",
    "The spherical harmonics take the form\n",
    "\n",
    "$$\n",
    "Y_{l}^{m} (\\theta, \\phi) =\n",
    "(-1)^m \\sqrt{\\frac{2l+1}{4\\pi} \\frac{(l-m)!}{(l+m)!}}\n",
    "P_{l}^{m}(\\cos\\theta) e^{im\\phi}\n",
    "$$\n",
    "\n",
    "The spherical harmonics work as an analog for the Fourier series in higher dimensions (often called the Laplace series), in fact, any well-behaved function of $\\theta$ and $\\phi$ can be written as\n",
    "\n",
    "$$\n",
    "f(\\theta, \\phi) = \\sum_{l=0}^{\\infty} \\sum_{m=-l}^{l} a_{lm} Y_{l}^{m} (\\theta, phi)\n",
    "$$\n",
    "\n",
    "where $a_{lm} = \\int f(\\theta, \\phi) Y_{l}^{m} (\\theta, \\phi)\\text{*} d\\Omega$\n",
    "\n",
    "Spherical harmonics have a wide range of applications, from being used for 3D modeling (the same way you can turn a 1D signal into a Fourier series, you can turn a 3D one into a Laplace series) to being the same math present in the orbital of atoms an molecules.\n",
    "\n",
    "Luckily, SciPy has also made working with spherical harmonics in python really easy for us! To do this, we can use [sp.sph_harm](https://docs.scipy.org/doc/scipy/reference/generated/scipy.special.sph_harm.html). This takes inputs of the form <code>sp.sph_harm(m, l, phi, theta)</code>, where m and l are the order and degree of the harmonic, as defined above, phi is the azimuthal (longitudinal) coordinate, and theta is the polar (colatitudinal) coordinate. See below for some example usage and the first few harmonics. Note that there isn't an imaginary component when $m=0$."
   ]
  },
  {
   "cell_type": "code",
   "execution_count": null,
   "metadata": {
    "scrolled": false
   },
   "outputs": [],
   "source": [
    "# Create a grid of values for phi and theta\n",
    "PHI, THETA = np.mgrid[0:2*np.pi:200j, 0:np.pi:100j] \n",
    "\n",
    "fig1 = plt.figure(figsize = (8,8))\n",
    "fig1.suptitle(\"$|Y^m_ l|^2$\", fontsize=20)\n",
    "\n",
    "for l in range(3):\n",
    "    for m in range(l+1):\n",
    "        # Calculate the absolute values of the spherical harmonics\n",
    "        R = np.abs(sp.sph_harm(m, l, PHI, THETA))**2\n",
    "\n",
    "        X = R * np.sin(THETA) * np.cos(PHI)\n",
    "        Y = R * np.sin(THETA) * np.sin(PHI)\n",
    "        Z = R * np.cos(THETA)\n",
    "\n",
    "        ax = fig1.add_subplot(3, 3, l*3+m+1, projection='3d')\n",
    "\n",
    "        ax.plot_surface(X, Y, Z)\n",
    "        ax.set_title('$|Y^{}_ {}|^2$'.format(m, l))\n",
    "\n",
    "fig2 = plt.figure(figsize=(8,8))\n",
    "fig2.suptitle(\"$Re[Y^m_ l]^2$\", fontsize=20)\n",
    "for l in range(3):\n",
    "    for m in range(l+1):\n",
    "        # Calculate the real values of the spherical harmonics\n",
    "        R = sp.sph_harm(m, l, PHI, THETA).real**2\n",
    "\n",
    "        X = R * np.sin(THETA) * np.cos(PHI)\n",
    "        Y = R * np.sin(THETA) * np.sin(PHI)\n",
    "        Z = R * np.cos(THETA)\n",
    "\n",
    "        ax = fig2.add_subplot(3, 3, l*3+m+1, projection='3d')\n",
    "\n",
    "        ax.plot_surface(X, Y, Z)\n",
    "        ax.set_title('$Re[Y^{}_ {}]^2$'.format(m, l))\n",
    "        \n",
    "fig3 = plt.figure(figsize=(8,8))\n",
    "fig3.suptitle(\"$Im[Y^m_ l]^2$\", fontsize=20)\n",
    "for l in range(3):\n",
    "    for m in range(l+1):\n",
    "        # Calculate the imaginary values of the spherical harmonics\n",
    "        R = sp.sph_harm(m, l, PHI, THETA).imag**2\n",
    "\n",
    "        X = R * np.sin(THETA) * np.cos(PHI)\n",
    "        Y = R * np.sin(THETA) * np.sin(PHI)\n",
    "        Z = R * np.cos(THETA)\n",
    "\n",
    "        ax = fig3.add_subplot(3, 3, l*3+m+1, projection='3d')\n",
    "\n",
    "        ax.plot_surface(X, Y, Z)\n",
    "        ax.set_title('$Im[Y^{}_ {}]^2$'.format(m, l))\n",
    "\n",
    "        \n",
    "plt.show()"
   ]
  },
  {
   "cell_type": "markdown",
   "metadata": {},
   "source": [
    "## Part 2: The Hydrogen Atom\n",
    "\n",
    "Let's take a look at the Schr&ouml;edinger equation. In 1D cartesian coordinates, we get the (somewhat) familiar form:\n",
    "\n",
    "$$\n",
    "-\\frac{\\hbar^2}{2m} \\frac{d\\psi(x)}{dx^2} + \n",
    "V(x) \\psi(x) = E\\psi(x)\n",
    "$$\n",
    "\n",
    "In 3D spherical coordinates, we get:\n",
    "\n",
    "$$\n",
    "-\\frac{\\hbar^2}{2\\mu} \\frac{1}{r^2} \\frac{\\delta}{\\delta r} \\left[ r^2 \\frac{\\delta \\psi}{\\delta r} \\right] -\n",
    "\\frac{\\hbar^2}{2\\mu r^2} \\left[\\frac{1}{\\sin \\theta} \\frac{\\delta}{\\delta \\theta} \\left( \\sin \\theta \\frac{\\delta \\psi}{\\delta \\theta}\\right) +\n",
    "\\frac{1}{\\sin^2 \\theta} \\frac{\\delta^2\\psi}{\\delta \\phi^2}\\right]\n",
    "+V(r)\\psi\n",
    "=E\\psi\n",
    "$$\n",
    "\n",
    "Without going too far into the math here (doing separation of variables on the Schr&ouml;edinger equation in 3 dimensions is beyond the scope of this exercise), we find that this has eigenfunctions of the form\n",
    "\n",
    "$$\n",
    "\\psi_{nlm}(r, \\theta, \\phi) = R_n(r) Y_{l}^{m}(\\theta,\\phi)\n",
    "$$\n",
    "\n",
    "Where $R_n(r)$ are the Leguerre polynomials. These are only acting in the radial direction, so while they make a big impact on the orbitals (this number is known as the principal quantum number, and defines the size of an orbital), it has arguably less bearing on the geometry of the orbital, which is what we're looking at. \n",
    "\n",
    "**Question: What does a term in the radial direction mean in this case?**\n"
   ]
  },
  {
   "cell_type": "markdown",
   "metadata": {},
   "source": []
  },
  {
   "cell_type": "markdown",
   "metadata": {},
   "source": [
    "Let's take a look at the hydrogen atom. You might remember the energy levels of hydrogen from taking Modern Physics. If not, you'll probably want to at least look up the energy level diagram (I'd recommend checking out this [section from the Feynman lectures](https://www.feynmanlectures.caltech.edu/III_19.html#Ch19-S5)). \n",
    "\n",
    "If you look at the below energy level chart from that resource, you'll see that as the energy levels increase, the associated orbital does as well."
   ]
  },
  {
   "cell_type": "code",
   "execution_count": 4,
   "metadata": {},
   "outputs": [
    {
     "data": {
      "text/html": [
       "<img src=\"FeynmanLectures19_6.jpg\" width=\"1000\"/>"
      ],
      "text/plain": [
       "<IPython.core.display.Image object>"
      ]
     },
     "execution_count": 4,
     "metadata": {},
     "output_type": "execute_result"
    }
   ],
   "source": [
    "from IPython.display import Image\n",
    "Image(url= \"FeynmanLectures19_6.jpg\", width=1000)"
   ]
  },
  {
   "cell_type": "markdown",
   "metadata": {},
   "source": [
    "**For this exercise, plot the orbital shapes of the energy levels of hydrogen through the $n=3$ level, correctly labeled as they would be in the chart above.**\n",
    "\n",
    "Please leave out the Laguerre term in calculating the shapes, as this would be hard to visualize in 3D (this fact may also help you think about the question about what it means). Also, think about what the $m$ quantum means and the role it plays in the shape of the orbitals."
   ]
  },
  {
   "cell_type": "code",
   "execution_count": null,
   "metadata": {},
   "outputs": [],
   "source": [
    "# Define a grid of phi and theta values\n",
    "\n",
    "#/\n",
    "PHI, THETA = np.mgrid[0:2*np.pi:200j, 0:np.pi:100j]\n",
    "#/\n",
    "\n",
    "# Calculate the spherical harmonics up through the n = 3 level, using the appropriate values of m and l\n",
    "\n",
    "# Plot each orbital with the appropriate labeling\n",
    "\n",
    "#/\n",
    "fig = plt.figure(figsize = (8,8))\n",
    "fig.suptitle(\"Hydrogen Orbital shapes\", fontsize=20)\n",
    "\n",
    "m = 0\n",
    "\n",
    "chars = ['s', 'p', 'd', 'f']\n",
    "for n in range(3):\n",
    "    for l in range(n + 1):\n",
    "        R = sp.sph_harm(m, l, PHI, THETA).real**2\n",
    "\n",
    "        X = R * np.sin(THETA) * np.cos(PHI)\n",
    "        Y = R * np.sin(THETA) * np.sin(PHI)\n",
    "        Z = R * np.cos(THETA)\n",
    "\n",
    "        ax = fig.add_subplot(3, 3, n*3 + l +1, projection='3d')\n",
    "\n",
    "        ax.plot_surface(X, Y, Z)\n",
    "        ax.set_title('{}{} Orbital'.format(n + 1, chars[l]))      \n",
    "#/"
   ]
  },
  {
   "cell_type": "markdown",
   "metadata": {},
   "source": [
    "**Question: How do the n, l, and m in the math affect the orbital shapes?**"
   ]
  },
  {
   "cell_type": "markdown",
   "metadata": {},
   "source": []
  }
 ],
 "metadata": {
  "kernelspec": {
   "display_name": "Python 3",
   "language": "python",
   "name": "python3"
  },
  "language_info": {
   "codemirror_mode": {
    "name": "ipython",
    "version": 3
   },
   "file_extension": ".py",
   "mimetype": "text/x-python",
   "name": "python",
   "nbconvert_exporter": "python",
   "pygments_lexer": "ipython3",
   "version": "3.8.8"
  }
 },
 "nbformat": 4,
 "nbformat_minor": 4
}
